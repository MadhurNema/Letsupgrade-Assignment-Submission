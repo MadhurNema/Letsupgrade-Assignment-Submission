{
  "nbformat": 4,
  "nbformat_minor": 0,
  "metadata": {
    "colab": {
      "name": "Date 6 FebDay 2Assignment2(5 builtin function of Dictionary).ipynb",
      "provenance": [],
      "authorship_tag": "ABX9TyNC2KvgiY0jMB4vXC5EqTKN",
      "include_colab_link": true
    },
    "kernelspec": {
      "name": "python3",
      "display_name": "Python 3"
    }
  },
  "cells": [
    {
      "cell_type": "markdown",
      "metadata": {
        "id": "view-in-github",
        "colab_type": "text"
      },
      "source": [
        "<a href=\"https://colab.research.google.com/github/MadhurNema/Letsupgrade-Assignment-Submission/blob/main/Date_6_FebDay_2_Assignment2(5_builtin_function_of_Dictionary).ipynb\" target=\"_parent\"><img src=\"https://colab.research.google.com/assets/colab-badge.svg\" alt=\"Open In Colab\"/></a>"
      ]
    },
    {
      "cell_type": "code",
      "metadata": {
        "id": "WuEawI-1LukW"
      },
      "source": [
        "dct = {\"Organisation\":\"LetsUpgrade\",\"Director\":\"SaiKiran\",\"Type\":\"Startup\"}"
      ],
      "execution_count": 1,
      "outputs": []
    },
    {
      "cell_type": "code",
      "metadata": {
        "colab": {
          "base_uri": "https://localhost:8080/"
        },
        "id": "i_K7ESueMpzx",
        "outputId": "264b001f-cf41-45ad-fc23-16a63e0cc9d9"
      },
      "source": [
        "dct"
      ],
      "execution_count": 2,
      "outputs": [
        {
          "output_type": "execute_result",
          "data": {
            "text/plain": [
              "{'Director': 'SaiKiran', 'Organisation': 'LetsUpgrade', 'Type': 'Startup'}"
            ]
          },
          "metadata": {
            "tags": []
          },
          "execution_count": 2
        }
      ]
    },
    {
      "cell_type": "code",
      "metadata": {
        "colab": {
          "base_uri": "https://localhost:8080/"
        },
        "id": "-RxwBjBlMtK_",
        "outputId": "527d709d-6503-43df-c47c-1802924588c1"
      },
      "source": [
        "# to get all the keys name\r\n",
        "dct.keys()"
      ],
      "execution_count": 3,
      "outputs": [
        {
          "output_type": "execute_result",
          "data": {
            "text/plain": [
              "dict_keys(['Organisation', 'Director', 'Type'])"
            ]
          },
          "metadata": {
            "tags": []
          },
          "execution_count": 3
        }
      ]
    },
    {
      "cell_type": "code",
      "metadata": {
        "colab": {
          "base_uri": "https://localhost:8080/"
        },
        "id": "vAFL9c08M_9w",
        "outputId": "dd236b50-8abc-4875-d6d4-5259faad192f"
      },
      "source": [
        "# to get all the values name\r\n",
        "dct.values()"
      ],
      "execution_count": 4,
      "outputs": [
        {
          "output_type": "execute_result",
          "data": {
            "text/plain": [
              "dict_values(['LetsUpgrade', 'SaiKiran', 'Startup'])"
            ]
          },
          "metadata": {
            "tags": []
          },
          "execution_count": 4
        }
      ]
    },
    {
      "cell_type": "code",
      "metadata": {
        "colab": {
          "base_uri": "https://localhost:8080/"
        },
        "id": "Y4UEdaTKNIiD",
        "outputId": "7a7d994d-f042-4814-d740-c5ab48c63add"
      },
      "source": [
        "#to see all the items in a dictionary\r\n",
        "dct.items()"
      ],
      "execution_count": 5,
      "outputs": [
        {
          "output_type": "execute_result",
          "data": {
            "text/plain": [
              "dict_items([('Organisation', 'LetsUpgrade'), ('Director', 'SaiKiran'), ('Type', 'Startup')])"
            ]
          },
          "metadata": {
            "tags": []
          },
          "execution_count": 5
        }
      ]
    },
    {
      "cell_type": "code",
      "metadata": {
        "id": "NsfGyaGKNZOn"
      },
      "source": [
        "#add more keys value in dictionary\r\n",
        "dct.update({\"Target\":\"Educational Hub\"})"
      ],
      "execution_count": 7,
      "outputs": []
    },
    {
      "cell_type": "code",
      "metadata": {
        "colab": {
          "base_uri": "https://localhost:8080/",
          "height": 35
        },
        "id": "2TLEcGItN-y8",
        "outputId": "b511f04d-7e37-4139-d91a-8336f0e0fdd2"
      },
      "source": [
        "#to pop and remove the keys and its values \r\n",
        "dct.pop(\"Target\")"
      ],
      "execution_count": 9,
      "outputs": [
        {
          "output_type": "execute_result",
          "data": {
            "application/vnd.google.colaboratory.intrinsic+json": {
              "type": "string"
            },
            "text/plain": [
              "'Educational Hub'"
            ]
          },
          "metadata": {
            "tags": []
          },
          "execution_count": 9
        }
      ]
    },
    {
      "cell_type": "code",
      "metadata": {
        "colab": {
          "base_uri": "https://localhost:8080/"
        },
        "id": "x8Cr1HW1OXfg",
        "outputId": "cb539f51-8006-4324-97bc-b357c1e4a3ef"
      },
      "source": [
        "##to pop and remove the keys and its values pairing\r\n",
        "dct.popitem()"
      ],
      "execution_count": 13,
      "outputs": [
        {
          "output_type": "execute_result",
          "data": {
            "text/plain": [
              "('Director', 'SaiKiran')"
            ]
          },
          "metadata": {
            "tags": []
          },
          "execution_count": 13
        }
      ]
    },
    {
      "cell_type": "code",
      "metadata": {
        "colab": {
          "base_uri": "https://localhost:8080/"
        },
        "id": "R9CXcZEFOwnh",
        "outputId": "2bbf21dc-5c8d-4dd8-f862-e450863048d6"
      },
      "source": [
        "dct"
      ],
      "execution_count": 14,
      "outputs": [
        {
          "output_type": "execute_result",
          "data": {
            "text/plain": [
              "{'Organisation': 'LetsUpgrade'}"
            ]
          },
          "metadata": {
            "tags": []
          },
          "execution_count": 14
        }
      ]
    }
  ]
}