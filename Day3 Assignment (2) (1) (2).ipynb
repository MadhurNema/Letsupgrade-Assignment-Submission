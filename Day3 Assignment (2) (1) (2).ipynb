{
 "cells": [
  {
   "cell_type": "markdown",
   "metadata": {},
   "source": [
    "#Day 3 Assignment\n"
   ]
  },
  {
   "cell_type": "code",
   "execution_count": 7,
   "metadata": {},
   "outputs": [
    {
     "name": "stdout",
     "output_type": "stream",
     "text": [
      "[[ 2  5  8 11 14 17 20 23 26 29 32 35 38 41 44 47]]\n"
     ]
    }
   ],
   "source": [
    "#Day 3 Assignment\n",
    "# Question 1: Answer\n",
    "import numpy as np\n",
    "ar = np.array([range(2,50,3)])\n",
    "print(ar)"
   ]
  },
  {
   "cell_type": "code",
   "execution_count": null,
   "metadata": {},
   "outputs": [],
   "source": [
    "# Question 2 : Answer\n",
    "import numpy as np\n",
    "l1 = [int(x) for x in input().split(\",\")]\n",
    "l2 = [int(x) for x in input().split(\",\")]\n",
    "arr1= np.array(l1)\n",
    "arr2= np.array(l2)\n",
    "arrfinal= np.concatenate((arr1,arr2))\n",
    "print(arrfinal)\n",
    "print(np.sort(arrfinal))\n",
    "\n"
   ]
  },
  {
   "cell_type": "code",
   "execution_count": 4,
   "metadata": {},
   "outputs": [
    {
     "name": "stdout",
     "output_type": "stream",
     "text": [
      "[[1 2 3]\n",
      " [4 5 6]\n",
      " [7 8 9]]\n",
      "9\n",
      "(3, 3)\n"
     ]
    }
   ],
   "source": [
    "\n",
    "#Question 3 : Answer\n",
    "import numpy as np\n",
    "arr1 = np.array([[1,2,3],[4,5,6],[7,8,9]])\n",
    "print(arr1)\n",
    "sizeofarray=np.size(arr1)\n",
    "dimensionofarray = np.shape(arr1)\n",
    "print(sizeofarray)\n",
    "print(dimensionofarray)\n",
    "                 "
   ]
  },
  {
   "cell_type": "code",
   "execution_count": 9,
   "metadata": {},
   "outputs": [
    {
     "name": "stdout",
     "output_type": "stream",
     "text": [
      "(6,)\n",
      "[[1]\n",
      " [2]\n",
      " [3]\n",
      " [4]\n",
      " [5]\n",
      " [6]]\n",
      "(6, 1)\n",
      "[[1 2 3 4 5 6]]\n",
      "(1, 6)\n",
      "[[1 2 3 4 5 6]]\n",
      "(1, 6)\n",
      "[[1]\n",
      " [2]\n",
      " [3]\n",
      " [4]\n",
      " [5]\n",
      " [6]]\n",
      "(6, 1)\n"
     ]
    }
   ],
   "source": [
    "#Question 4 : Answer\n",
    "import numpy as np\n",
    "\n",
    "arr1 = np.array([1,2,3,4,5,6])\n",
    "print(np.shape(arr1))\n",
    "\n",
    "#1d to 2d array using np.newaxis\n",
    "arr2 = arr1[:,np.newaxis]\n",
    "print(arr2)\n",
    "print(np.shape(arr2))\n",
    "\n",
    "arr3 = arr1[np.newaxis,:]\n",
    "print(arr3)\n",
    "print(np.shape(arr3))\n",
    "\n",
    "#1d to 2d array using np.expand_dims\n",
    "\n",
    "arr4 =np.expand_dims(arr1,axis =0) # equivalent to arr1[np.newaxis,:]\n",
    "print(arr4)\n",
    "print(np.shape(arr4))\n",
    "\n",
    "arr5 =np.expand_dims(arr1,axis =1) # equivalent to arr1[:,np.newaxis]\n",
    "print(arr5)\n",
    "print(np.shape(arr5))"
   ]
  },
  {
   "cell_type": "code",
   "execution_count": 6,
   "metadata": {},
   "outputs": [
    {
     "name": "stdout",
     "output_type": "stream",
     "text": [
      "(2, 2)\n",
      "(2, 2)\n",
      "[[ 1  2]\n",
      " [ 4  5]\n",
      " [ 7  8]\n",
      " [11 12]]\n",
      "[[ 1  2  7  8]\n",
      " [ 4  5 11 12]]\n"
     ]
    }
   ],
   "source": [
    "\n",
    "#Question 5: Answer\n",
    "import numpy as np\n",
    "\n",
    "arr1 = np.array([[1,2],[4,5]])\n",
    "arr2 = np.array([[7,8],[11,12]])\n",
    "                 \n",
    "print(np.shape(arr1))\n",
    "print(np.shape(arr2))\n",
    "\n",
    "# vstack\n",
    "vrr = np.vstack((arr1,arr2))\n",
    "print(vrr)\n",
    "\n",
    "#hstack\n",
    "hrr = np.hstack((arr1,arr2))\n",
    "print(hrr)"
   ]
  },
  {
   "cell_type": "code",
   "execution_count": 8,
   "metadata": {},
   "outputs": [
    {
     "name": "stdout",
     "output_type": "stream",
     "text": [
      "(array(['Apple', 'Mango', 'Orange', 'papaya', 'stawberry'], dtype='<U9'), array([2, 2, 1, 2, 1]))\n",
      "(array([1, 2, 3, 4, 5, 6, 7, 8]), array([1, 2, 1, 1, 1, 2, 1, 2]))\n"
     ]
    }
   ],
   "source": [
    "\n",
    "#Question 6: Answer\n",
    "import numpy as np\n",
    "ls = [\"Apple\",\"Apple\",\"Mango\",\"Orange\",\"stawberry\",\"papaya\",\"papaya\",\"Mango\"]\n",
    "print(np.unique(ls,return_counts=True))\n",
    "\n",
    "\n",
    "lI = [1,2,4,5,6,3,2,7,8,8,6]\n",
    "print(np.unique(lI,return_counts=True))\n"
   ]
  },
  {
   "cell_type": "code",
   "execution_count": null,
   "metadata": {},
   "outputs": [],
   "source": []
  }
 ],
 "metadata": {
  "kernelspec": {
   "display_name": "Python 3",
   "language": "python",
   "name": "python3"
  },
  "language_info": {
   "codemirror_mode": {
    "name": "ipython",
    "version": 3
   },
   "file_extension": ".py",
   "mimetype": "text/x-python",
   "name": "python",
   "nbconvert_exporter": "python",
   "pygments_lexer": "ipython3",
   "version": "3.7.8"
  }
 },
 "nbformat": 4,
 "nbformat_minor": 4
}
