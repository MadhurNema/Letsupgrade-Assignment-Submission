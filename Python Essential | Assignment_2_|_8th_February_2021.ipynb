{
  "nbformat": 4,
  "nbformat_minor": 0,
  "metadata": {
    "colab": {
      "name": "Assignment 2 | 8th February 2021.ipynb",
      "provenance": [],
      "authorship_tag": "ABX9TyN8SULZ+BzlY9ePLM3tep1W",
      "include_colab_link": true
    },
    "kernelspec": {
      "name": "python3",
      "display_name": "Python 3"
    }
  },
  "cells": [
    {
      "cell_type": "markdown",
      "metadata": {
        "id": "view-in-github",
        "colab_type": "text"
      },
      "source": [
        "<a href=\"https://colab.research.google.com/github/MadhurNema/Letsupgrade-Assignment-Submission/blob/main/Python%20Essential%20%7C%20Assignment_2_%7C_8th_February_2021.ipynb\" target=\"_parent\"><img src=\"https://colab.research.google.com/assets/colab-badge.svg\" alt=\"Open In Colab\"/></a>"
      ]
    },
    {
      "cell_type": "markdown",
      "metadata": {
        "id": "L9E7PBheY1GI"
      },
      "source": [
        "# Assignment 2 | 8th February 2021"
      ]
    },
    {
      "cell_type": "code",
      "metadata": {
        "colab": {
          "base_uri": "https://localhost:8080/"
        },
        "id": "Y2eV69qBY9gu",
        "outputId": "4d63f42a-48f6-4c5b-c2e0-2b833e0666c5"
      },
      "source": [
        "Inp = int(input(\"Input-\"))\r\n",
        "# Decisions\r\n",
        "if Inp >= 5000:\r\n",
        "  print(\"Turn Around\")\r\n",
        "elif (Inp <5000 and Inp >1000):\r\n",
        "  print(\"Bring down to 1000\")\r\n",
        "else:\r\n",
        "  print(\"Safe to land\")"
      ],
      "execution_count": 8,
      "outputs": [
        {
          "output_type": "stream",
          "text": [
            "Input-5000\n",
            "Turn Around\n"
          ],
          "name": "stdout"
        }
      ]
    },
    {
      "cell_type": "code",
      "metadata": {
        "colab": {
          "base_uri": "https://localhost:8080/"
        },
        "id": "IyJeqyqVbweu",
        "outputId": "8e57a8b9-c490-43b1-f4f9-ca6244618219"
      },
      "source": [
        ""
      ],
      "execution_count": 4,
      "outputs": [
        {
          "output_type": "stream",
          "text": [
            "Safe to land\n"
          ],
          "name": "stdout"
        }
      ]
    }
  ]
}