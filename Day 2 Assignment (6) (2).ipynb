{
 "cells": [
  {
   "cell_type": "code",
   "execution_count": null,
   "metadata": {},
   "outputs": [],
   "source": [
    "#Question1 : Answer\n",
    "\n",
    "even = []\n",
    "for i in range(10):\n",
    "    num = int(input(\"Enter the numbers\"))\n",
    "    if num % 2 ==0 :\n",
    "        even.append(num)\n",
    "print(even)"
   ]
  },
  {
   "cell_type": "raw",
   "metadata": {},
   "source": [
    "#Question 2: Answer \n",
    " LIST COMPREHENSION\n",
    " \n",
    " LIST COMPREHENSION is a elegant way of making list in python.\n",
    "Rather than creating an empty list and adding each element to the end, you simply define the list and its contents at the    same time by following this format:\n",
    "\n",
    "\n",
    "Test_List = [expression for members in iterable]\n",
    "\n",
    "for Example:\n",
    " \n",
    "code:\n",
    ">>> squares = [i * i for i in range(10)]\n",
    ">>> squares\n",
    "[0, 1, 4, 9, 16, 25, 36, 49, 64, 81]\n",
    "\n",
    "Every list comprehension in Python includes three elements:\n",
    "\n",
    "1.expression is the member itself, a call to a method, or any other valid expression that returns a value. In the example above, the expression i * i is the square of the member value.\n",
    "2.member is the object or value in the list or iterable. In the example above, the member value is i.\n",
    "3.iterable is a list, set, sequence, generator, or any other object that can return its elements one at a time. In the example above, the iterable is range(10).\n",
    "    \n",
    "    "
   ]
  },
  {
   "cell_type": "code",
   "execution_count": 6,
   "metadata": {},
   "outputs": [
    {
     "name": "stdin",
     "output_type": "stream",
     "text": [
      " 6\n"
     ]
    },
    {
     "name": "stdout",
     "output_type": "stream",
     "text": [
      "{1: 1, 2: 4, 3: 9, 4: 16, 5: 25, 6: 36}\n"
     ]
    }
   ],
   "source": [
    "#Question 3: Answer:\n",
    "n=int(input())\n",
    "d = {}\n",
    "for i in range(1,n+1):\n",
    "    #print(i) \n",
    "    d.update({ i : i*i})\n",
    "    \n",
    "print(d)"
   ]
  },
  {
   "cell_type": "code",
   "execution_count": 25,
   "metadata": {},
   "outputs": [
    {
     "name": "stdin",
     "output_type": "stream",
     "text": [
      " 4\n",
      " UP 5\n",
      " DOWN 3\n",
      " LEFT 3\n",
      " RIGHT 2\n"
     ]
    },
    {
     "name": "stdout",
     "output_type": "stream",
     "text": [
      "2\n"
     ]
    }
   ],
   "source": [
    "## Question 4 : Answer:\n",
    "import math\n",
    "# n is a number of direction \n",
    "n= int(input())\n",
    "l=[]\n",
    "x=0\n",
    "y=0\n",
    "for i in range(n):\n",
    "    n1 = input().split(\" \")\n",
    "    l.append(n1)\n",
    "    \n",
    "#after taking the input as a list now arrange the loop\n",
    "for j in range(n):\n",
    "    if(l[j][0] == \"UP\"):  \n",
    "         y=y + int(l[j][1])\n",
    "    elif(l[j][0] == \"DOWN\"):\n",
    "         y=y-int(l[j][1])\n",
    "    elif(l[j][0] == \"RIGHT\"):\n",
    "         x=x + int(l[j][1])\n",
    "    elif(l[j][0] == \"LEFT\"):\n",
    "         x=x- int(l[j][1])\n",
    "    else:\n",
    "        print(\"Wrong direction command\")\n",
    "# Cal the distance from initial position\n",
    "distance = x*x + y*y\n",
    "finald= math.sqrt(distance)\n",
    "if(type(finald) == float):\n",
    "    finald =round(finald)\n",
    "    print(finald)\n",
    "else:\n",
    "    print(finald)\n",
    "\n"
   ]
  },
  {
   "cell_type": "code",
   "execution_count": null,
   "metadata": {},
   "outputs": [],
   "source": []
  }
 ],
 "metadata": {
  "kernelspec": {
   "display_name": "Python 3",
   "language": "python",
   "name": "python3"
  },
  "language_info": {
   "codemirror_mode": {
    "name": "ipython",
    "version": 3
   },
   "file_extension": ".py",
   "mimetype": "text/x-python",
   "name": "python",
   "nbconvert_exporter": "python",
   "pygments_lexer": "ipython3",
   "version": "3.7.8"
  }
 },
 "nbformat": 4,
 "nbformat_minor": 4
}
