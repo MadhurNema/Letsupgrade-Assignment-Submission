{
  "nbformat": 4,
  "nbformat_minor": 0,
  "metadata": {
    "colab": {
      "name": "Assignment 1(5 inbuilt function of List).ipynb",
      "provenance": [],
      "authorship_tag": "ABX9TyMMrlEexOcGsmnZTENrv5Vz",
      "include_colab_link": true
    },
    "kernelspec": {
      "name": "python3",
      "display_name": "Python 3"
    }
  },
  "cells": [
    {
      "cell_type": "markdown",
      "metadata": {
        "id": "view-in-github",
        "colab_type": "text"
      },
      "source": [
        "<a href=\"https://colab.research.google.com/github/MadhurNema/Letsupgrade-Assignment-Submission/blob/main/Date%206th%20Feb%20Day%202%20Assignment_1(5_inbuilt_function_of_List).ipynb\" target=\"_parent\"><img src=\"https://colab.research.google.com/assets/colab-badge.svg\" alt=\"Open In Colab\"/></a>"
      ]
    },
    {
      "cell_type": "code",
      "metadata": {
        "id": "WQDvDZvQFs6-"
      },
      "source": [
        "ls =[1,2,3,4,5,'a','b','c','d','e',True,False]"
      ],
      "execution_count": 1,
      "outputs": []
    },
    {
      "cell_type": "code",
      "metadata": {
        "id": "wa3nX03_GCt3"
      },
      "source": [
        "#append function\r\n",
        "ls.append(\"add\")"
      ],
      "execution_count": 3,
      "outputs": []
    },
    {
      "cell_type": "code",
      "metadata": {
        "id": "yq2TDyKjGQzn"
      },
      "source": [
        "#remove \r\n",
        "ls.remove(\"add\")"
      ],
      "execution_count": 5,
      "outputs": []
    },
    {
      "cell_type": "code",
      "metadata": {
        "colab": {
          "base_uri": "https://localhost:8080/"
        },
        "id": "V2kSNEkRGbd3",
        "outputId": "e7e9a669-92e8-4f6d-e8a4-12938f24833e"
      },
      "source": [
        "# count the occurence\r\n",
        "ls.count('a')"
      ],
      "execution_count": 8,
      "outputs": [
        {
          "output_type": "execute_result",
          "data": {
            "text/plain": [
              "1"
            ]
          },
          "metadata": {
            "tags": []
          },
          "execution_count": 8
        }
      ]
    },
    {
      "cell_type": "code",
      "metadata": {
        "colab": {
          "base_uri": "https://localhost:8080/"
        },
        "id": "b5yGLv2KGrrb",
        "outputId": "afd5b1e7-698b-444c-e6a2-1a55eb80c666"
      },
      "source": [
        "#its pop and delete from the list\r\n",
        "ls.pop(1)"
      ],
      "execution_count": 12,
      "outputs": [
        {
          "output_type": "execute_result",
          "data": {
            "text/plain": [
              "2"
            ]
          },
          "metadata": {
            "tags": []
          },
          "execution_count": 12
        }
      ]
    },
    {
      "cell_type": "code",
      "metadata": {
        "id": "GubweK2eIn2V"
      },
      "source": [
        "#it creasted thr reverse order\r\n",
        "ls.reverse()"
      ],
      "execution_count": 16,
      "outputs": []
    }
  ]
}